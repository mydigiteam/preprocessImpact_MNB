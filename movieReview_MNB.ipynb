{
  "nbformat": 4,
  "nbformat_minor": 0,
  "metadata": {
    "colab": {
      "name": "movieReview_MNB.ipynb",
      "provenance": []
    },
    "kernelspec": {
      "name": "python3",
      "display_name": "Python 3"
    },
    "language_info": {
      "name": "python"
    }
  },
  "cells": [
    {
      "cell_type": "markdown",
      "metadata": {
        "id": "uOGiiqNpbzBZ"
      },
      "source": [
        "# Sentiment Analysis on IMDB Movie Review Using Multinomial Naive Bayes\n",
        "\n",
        "[Dataset](https://www.kaggle.com/code/manishthem/sentiment-analysis-imdb-50k-dataset-91-accuracy/data?select=IMDB+Dataset.csv) can be downloaded here"
      ]
    },
    {
      "cell_type": "markdown",
      "metadata": {
        "id": "0NrPGTgAb3tH"
      },
      "source": [
        "## Import Library"
      ]
    },
    {
      "cell_type": "code",
      "metadata": {
        "colab": {
          "base_uri": "https://localhost:8080/"
        },
        "id": "GwjLTo_Pb6UG",
        "outputId": "688bd076-c0bd-4fdd-e69f-12965a55c442"
      },
      "source": [
        "import numpy as np\n",
        "import pandas as pd\n",
        "import re \n",
        "import nltk\n",
        "nltk.download('stopwords')\n",
        "nltk.download('punkt')\n",
        "from nltk.corpus import stopwords\n",
        "from nltk.tokenize import word_tokenize\n",
        "from sklearn.feature_extraction.text import TfidfVectorizer\n",
        "from sklearn.model_selection import train_test_split\n",
        "from sklearn.naive_bayes import MultinomialNB\n",
        "from sklearn import metrics\n",
        "from sklearn.metrics import classification_report, confusion_matrix, plot_confusion_matrix\n",
        "import matplotlib.pyplot as plt\n",
        "\n"
      ],
      "execution_count": 1,
      "outputs": [
        {
          "output_type": "stream",
          "name": "stdout",
          "text": [
            "[nltk_data] Downloading package stopwords to /root/nltk_data...\n",
            "[nltk_data]   Unzipping corpora/stopwords.zip.\n",
            "[nltk_data] Downloading package punkt to /root/nltk_data...\n",
            "[nltk_data]   Unzipping tokenizers/punkt.zip.\n"
          ]
        }
      ]
    },
    {
      "cell_type": "markdown",
      "metadata": {
        "id": "ADriEfp-ceog"
      },
      "source": [
        "## Load Dataset"
      ]
    },
    {
      "cell_type": "code",
      "metadata": {
        "colab": {
          "base_uri": "https://localhost:8080/"
        },
        "id": "o_-YF99ZcCX4",
        "outputId": "5c5282a7-4aa4-4486-eeff-8a3e91c0722e"
      },
      "source": [
        "df = pd.read_csv('IMDB Dataset.csv')\n",
        "df.sentiment.value_counts()"
      ],
      "execution_count": null,
      "outputs": [
        {
          "output_type": "execute_result",
          "data": {
            "text/plain": [
              "negative    25000\n",
              "positive    25000\n",
              "Name: sentiment, dtype: int64"
            ]
          },
          "metadata": {
            "tags": []
          },
          "execution_count": 2
        }
      ]
    },
    {
      "cell_type": "code",
      "metadata": {
        "colab": {
          "base_uri": "https://localhost:8080/"
        },
        "id": "yW1ajbWXdAr7",
        "outputId": "5084d006-2e31-4955-f801-6f0dd37746f4"
      },
      "source": [
        "df.info()"
      ],
      "execution_count": null,
      "outputs": [
        {
          "output_type": "stream",
          "text": [
            "<class 'pandas.core.frame.DataFrame'>\n",
            "RangeIndex: 50000 entries, 0 to 49999\n",
            "Data columns (total 2 columns):\n",
            " #   Column     Non-Null Count  Dtype \n",
            "---  ------     --------------  ----- \n",
            " 0   review     50000 non-null  object\n",
            " 1   sentiment  50000 non-null  object\n",
            "dtypes: object(2)\n",
            "memory usage: 781.4+ KB\n"
          ],
          "name": "stdout"
        }
      ]
    },
    {
      "cell_type": "code",
      "metadata": {
        "colab": {
          "base_uri": "https://localhost:8080/",
          "height": 206
        },
        "id": "esfG9qW5dE4m",
        "outputId": "a029c753-7295-41a0-9551-f59cebf2492c"
      },
      "source": [
        "df.head()"
      ],
      "execution_count": null,
      "outputs": [
        {
          "output_type": "execute_result",
          "data": {
            "text/html": [
              "<div>\n",
              "<style scoped>\n",
              "    .dataframe tbody tr th:only-of-type {\n",
              "        vertical-align: middle;\n",
              "    }\n",
              "\n",
              "    .dataframe tbody tr th {\n",
              "        vertical-align: top;\n",
              "    }\n",
              "\n",
              "    .dataframe thead th {\n",
              "        text-align: right;\n",
              "    }\n",
              "</style>\n",
              "<table border=\"1\" class=\"dataframe\">\n",
              "  <thead>\n",
              "    <tr style=\"text-align: right;\">\n",
              "      <th></th>\n",
              "      <th>review</th>\n",
              "      <th>sentiment</th>\n",
              "    </tr>\n",
              "  </thead>\n",
              "  <tbody>\n",
              "    <tr>\n",
              "      <th>0</th>\n",
              "      <td>One of the other reviewers has mentioned that ...</td>\n",
              "      <td>positive</td>\n",
              "    </tr>\n",
              "    <tr>\n",
              "      <th>1</th>\n",
              "      <td>A wonderful little production. &lt;br /&gt;&lt;br /&gt;The...</td>\n",
              "      <td>positive</td>\n",
              "    </tr>\n",
              "    <tr>\n",
              "      <th>2</th>\n",
              "      <td>I thought this was a wonderful way to spend ti...</td>\n",
              "      <td>positive</td>\n",
              "    </tr>\n",
              "    <tr>\n",
              "      <th>3</th>\n",
              "      <td>Basically there's a family where a little boy ...</td>\n",
              "      <td>negative</td>\n",
              "    </tr>\n",
              "    <tr>\n",
              "      <th>4</th>\n",
              "      <td>Petter Mattei's \"Love in the Time of Money\" is...</td>\n",
              "      <td>positive</td>\n",
              "    </tr>\n",
              "  </tbody>\n",
              "</table>\n",
              "</div>"
            ],
            "text/plain": [
              "                                              review sentiment\n",
              "0  One of the other reviewers has mentioned that ...  positive\n",
              "1  A wonderful little production. <br /><br />The...  positive\n",
              "2  I thought this was a wonderful way to spend ti...  positive\n",
              "3  Basically there's a family where a little boy ...  negative\n",
              "4  Petter Mattei's \"Love in the Time of Money\" is...  positive"
            ]
          },
          "metadata": {
            "tags": []
          },
          "execution_count": 4
        }
      ]
    },
    {
      "cell_type": "markdown",
      "metadata": {
        "id": "AaimbgGvfabn"
      },
      "source": [
        "## Preprocessing"
      ]
    },
    {
      "cell_type": "code",
      "metadata": {
        "colab": {
          "base_uri": "https://localhost:8080/"
        },
        "id": "CCCZWhz3fYG3",
        "outputId": "f1bff9b7-3179-46b2-af94-8252416bb2e1"
      },
      "source": [
        "stop_words = set(stopwords.words('english'))\n",
        "#lemmatizer = nltk.stem.WordNetLemmatizer()\n",
        "\n",
        "processed_review = []\n",
        "sinlge_review = 'string to iniialize <br /> my email id is charilie@waoow.com. You can also reach to me at charlie'\n",
        "reviews = df.review\n",
        "for review in range (0,50000):\n",
        "  single_review = df.loc[review,'review']\n",
        "\n",
        "  # remove html tags\n",
        "  single_review = re.sub('<.*?>',' ',single_review)\n",
        "  # remove special char\n",
        "  single_review = re.sub('\\W',' ',single_review)\n",
        "  # removing single char\n",
        "  single_review = re.sub('\\s+[a-zA-Z]\\s+',' ', single_review)\n",
        "\n",
        "  # multiple space into single space\n",
        "  single_review = re.sub('\\s+',' ', single_review)\n",
        "\n",
        "  # remove stopwords\n",
        "  word_tokens = word_tokenize(single_review)\n",
        "\n",
        "  filtered_sentence = []\n",
        "  filtered_sentence2 = \" \".join([w for w in word_tokens if w not in stop_words])\n",
        "\n",
        "  processed_review.append(filtered_sentence2)\n",
        "print(processed_review[5])\n"
      ],
      "execution_count": null,
      "outputs": [
        {
          "output_type": "stream",
          "text": [
            "Probably time favorite movie story selflessness sacrifice dedication noble cause preachy boring It never gets old despite seen 15 times last 25 years Paul Lukas performance brings tears eyes Bette Davis one truly sympathetic roles delight The kids grandma says like dressed midgets children makes fun watch And mother slow awakening happening world roof believable startling If dozen thumbs movie\n"
          ],
          "name": "stdout"
        }
      ]
    },
    {
      "cell_type": "markdown",
      "metadata": {
        "id": "XSfj57JAdMxg"
      },
      "source": [
        "## TF-IDF"
      ]
    },
    {
      "cell_type": "markdown",
      "metadata": {
        "id": "Qo_Tt1OQr8Lk"
      },
      "source": [
        "### Without Preprocessing"
      ]
    },
    {
      "cell_type": "code",
      "metadata": {
        "id": "ordf6QPMdGOk"
      },
      "source": [
        "tfidf = TfidfVectorizer(min_df=2, max_df=0.5, ngram_range=(1,2))\n",
        "text_count_matrix = tfidf.fit_transform(df.review)"
      ],
      "execution_count": null,
      "outputs": []
    },
    {
      "cell_type": "markdown",
      "metadata": {
        "id": "JtShGmObsC6q"
      },
      "source": [
        "### With Preprocessing"
      ]
    },
    {
      "cell_type": "code",
      "metadata": {
        "id": "ACArZrZkjInL"
      },
      "source": [
        "text_count_matrix2 = tfidf.fit_transform(processed_review)"
      ],
      "execution_count": null,
      "outputs": []
    },
    {
      "cell_type": "markdown",
      "metadata": {
        "id": "pEY_9SGEdlEM"
      },
      "source": [
        "## Split Data Train & Data Test"
      ]
    },
    {
      "cell_type": "markdown",
      "metadata": {
        "id": "2MRAI9fisHhU"
      },
      "source": [
        "### Without Preprocessing"
      ]
    },
    {
      "cell_type": "code",
      "metadata": {
        "id": "qoybjzGddpm5"
      },
      "source": [
        "x_train, x_test, y_train, y_test = train_test_split(text_count_matrix, df.sentiment, test_size = 0.2, random_state = 2)"
      ],
      "execution_count": null,
      "outputs": []
    },
    {
      "cell_type": "markdown",
      "metadata": {
        "id": "lhlXleLjsL3v"
      },
      "source": [
        "### With Preprocessing"
      ]
    },
    {
      "cell_type": "code",
      "metadata": {
        "id": "oTSiEukujZ9X"
      },
      "source": [
        "X_train, X_test, Y_train, Y_test = train_test_split(text_count_matrix2, df.sentiment, test_size=0.2, random_state=2)"
      ],
      "execution_count": null,
      "outputs": []
    },
    {
      "cell_type": "markdown",
      "metadata": {
        "id": "WqSqVKGXeZdf"
      },
      "source": [
        "## Converting Sentiment to 0/1"
      ]
    },
    {
      "cell_type": "markdown",
      "metadata": {
        "id": "HvK-IUw8sPZ5"
      },
      "source": [
        "### Without Preprocessing"
      ]
    },
    {
      "cell_type": "code",
      "metadata": {
        "id": "k86JU0K8eVwH"
      },
      "source": [
        "y_train = (y_train.replace({'positive': 1, 'negative': 0})).values\n",
        "y_test = (y_test.replace({'positive': 1, 'negative': 0})).values"
      ],
      "execution_count": null,
      "outputs": []
    },
    {
      "cell_type": "markdown",
      "metadata": {
        "id": "LjpLxrSasSfS"
      },
      "source": [
        "### With Preprocessing"
      ]
    },
    {
      "cell_type": "code",
      "metadata": {
        "id": "yr7I5bkajc94"
      },
      "source": [
        "Y_train = (Y_train.replace({'positive': 1, 'negative': 0})).values\n",
        "Y_test = (Y_test.replace({'positive': 1, 'negative': 0})).values"
      ],
      "execution_count": null,
      "outputs": []
    },
    {
      "cell_type": "markdown",
      "metadata": {
        "id": "XEVxBewtenzx"
      },
      "source": [
        "## Define & Fit Model "
      ]
    },
    {
      "cell_type": "markdown",
      "metadata": {
        "id": "wiElHj_dsXSE"
      },
      "source": [
        "### Without Preprocessing"
      ]
    },
    {
      "cell_type": "code",
      "metadata": {
        "colab": {
          "base_uri": "https://localhost:8080/"
        },
        "id": "TpgUpPdjeT9p",
        "outputId": "de578065-d83b-41c6-c65e-1fd6bcafcd68"
      },
      "source": [
        "MNB = MultinomialNB()\n",
        "MNB.fit(x_train,y_train)\n",
        "\n",
        "\n",
        "acc_score = metrics.accuracy_score(MNB.predict(x_test), y_test)\n",
        "print(\"accuracy_score without data pre-processing = \" + str('{:04.2f}'.format(acc_score*100))+\" %\")"
      ],
      "execution_count": null,
      "outputs": [
        {
          "output_type": "stream",
          "text": [
            "accuracy_score without data pre-processing = 88.99 %\n"
          ],
          "name": "stdout"
        }
      ]
    },
    {
      "cell_type": "markdown",
      "metadata": {
        "id": "bhmQ9H2rsbCK"
      },
      "source": [
        "### With Preprocessing"
      ]
    },
    {
      "cell_type": "code",
      "metadata": {
        "colab": {
          "base_uri": "https://localhost:8080/"
        },
        "id": "5hQRZ-XijgEs",
        "outputId": "592d970a-ae51-44af-9a46-49f2caa771be"
      },
      "source": [
        "MNB2 = MultinomialNB()\n",
        "MNB2.fit(X_train, Y_train)\n",
        "#4. Evaluating the model\n",
        "accuracy_score = metrics.accuracy_score(MNB2.predict(X_test), Y_test)\n",
        "print(\"accuracy_score with data pre-processing = \" + str('{:04.2f}'.format(accuracy_score*100))+\" %\")"
      ],
      "execution_count": null,
      "outputs": [
        {
          "output_type": "stream",
          "text": [
            "accuracy_score with data pre-processing = 89.35 %\n"
          ],
          "name": "stdout"
        }
      ]
    },
    {
      "cell_type": "markdown",
      "metadata": {
        "id": "8Yo-sirujh9V"
      },
      "source": [
        "## Report"
      ]
    },
    {
      "cell_type": "markdown",
      "metadata": {
        "id": "UMIoplW4P8DC"
      },
      "source": [
        "### Without Preprocessing"
      ]
    },
    {
      "cell_type": "code",
      "metadata": {
        "colab": {
          "base_uri": "https://localhost:8080/"
        },
        "id": "nY8vw8yLM-Ae",
        "outputId": "8641ae00-6b6a-4bc5-fb98-18129efe7867"
      },
      "source": [
        "report1 = classification_report(y_test, MNB.predict(x_test),target_names=['Negative','Positive'])\n",
        "cm1 = confusion_matrix(y_test, MNB.predict(x_test))\n",
        "print(\"Classification Report: \\n\", report1)\n",
        "print(\"Confusion Matrix: \\n\", cm1)"
      ],
      "execution_count": null,
      "outputs": [
        {
          "output_type": "stream",
          "text": [
            "Classification Report: \n",
            "               precision    recall  f1-score   support\n",
            "\n",
            "    Negative       0.88      0.91      0.89      4979\n",
            "    Positive       0.90      0.87      0.89      5021\n",
            "\n",
            "    accuracy                           0.89     10000\n",
            "   macro avg       0.89      0.89      0.89     10000\n",
            "weighted avg       0.89      0.89      0.89     10000\n",
            "\n",
            "Confusion Matrix: \n",
            " [[4510  469]\n",
            " [ 632 4389]]\n"
          ],
          "name": "stdout"
        }
      ]
    },
    {
      "cell_type": "markdown",
      "metadata": {
        "id": "FRzm_j55M0LG"
      },
      "source": [
        "### With Preprocessing\n"
      ]
    },
    {
      "cell_type": "code",
      "metadata": {
        "colab": {
          "base_uri": "https://localhost:8080/"
        },
        "id": "BNdsEdkhjjz8",
        "outputId": "0dc05c2b-ed6a-427b-983d-53eb78f0ccaf"
      },
      "source": [
        "report2 =  classification_report(Y_test, MNB2.predict(X_test),target_names=['Negative','Positive'])\n",
        "cm2 = confusion_matrix(Y_test, MNB2.predict(X_test))\n",
        "print(\"Classification Report: \\n\",report2)\n",
        "print(\"Confusion Matrix: \\n\",cm2 )"
      ],
      "execution_count": null,
      "outputs": [
        {
          "output_type": "stream",
          "text": [
            "Classification Report: \n",
            "               precision    recall  f1-score   support\n",
            "\n",
            "    Negative       0.89      0.89      0.89      4979\n",
            "    Positive       0.89      0.90      0.89      5021\n",
            "\n",
            "    accuracy                           0.89     10000\n",
            "   macro avg       0.89      0.89      0.89     10000\n",
            "weighted avg       0.89      0.89      0.89     10000\n",
            "\n",
            "Confusion Matrix: \n",
            " [[4441  538]\n",
            " [ 527 4494]]\n"
          ],
          "name": "stdout"
        }
      ]
    },
    {
      "cell_type": "markdown",
      "metadata": {
        "id": "LMM4JUpM5ga9"
      },
      "source": [
        "### Perbandingan Akurasi"
      ]
    },
    {
      "cell_type": "code",
      "metadata": {
        "colab": {
          "base_uri": "https://localhost:8080/",
          "height": 331
        },
        "id": "RO3D0WOmdNn4",
        "outputId": "c63a6a23-2794-4c8e-a717-6fd75eb17280"
      },
      "source": [
        "def addlabels(x,y):\n",
        "    for i in range(len(x)):\n",
        "        plt.text(i,y[i],y[i])\n",
        "\n",
        "print (\"Akurasi Tanpa Preprocessing\",(acc_score))\n",
        "print (\"Akurasi Dengan Preprocessing\",(accuracy_score))\n",
        "\n",
        "fig = plt.figure()\n",
        "\n",
        "acc = ['Tanpa Preprocessing', 'Dengan Preprocessing']\n",
        "val = [(acc_score),(accuracy_score)]\n",
        "\n",
        "\n",
        "plt.bar(acc,val,color=['r', 'b'])\n",
        "addlabels(acc,val)\n",
        "plt.suptitle('Perbandingan Akurasi')\n",
        "\n",
        "\n",
        "\n",
        "\n",
        "plt.savefig('perbandinganAkurasi.png')\n",
        "plt.show()"
      ],
      "execution_count": null,
      "outputs": [
        {
          "output_type": "stream",
          "text": [
            "Akurasi Tanpa Preprocessing 0.8899\n",
            "Akurasi Dengan Preprocessing 0.8935\n"
          ],
          "name": "stdout"
        },
        {
          "output_type": "display_data",
          "data": {
            "image/png": "[encoded data removed]",
            "text/plain": [
              "<Figure size 432x288 with 1 Axes>"
            ]
          },
          "metadata": {
            "tags": [],
            "needs_background": "light"
          }
        }
      ]
    },
    {
      "cell_type": "markdown",
      "metadata": {
        "id": "hMqj5VqB5rHv"
      },
      "source": [
        "### Perbandingan Jumlah Fitur"
      ]
    },
    {
      "cell_type": "code",
      "metadata": {
        "colab": {
          "base_uri": "https://localhost:8080/",
          "height": 331
        },
        "id": "oqdV-eKq6pTp",
        "outputId": "84ff68b7-8a82-42a8-ba9b-9918f6b1be0a"
      },
      "source": [
        "#without preprocess\n",
        "jumFitur = text_count_matrix.shape[1]\n",
        "#with preprocess\n",
        "jumFitur2 = text_count_matrix2.shape[1]\n",
        "\n",
        "print (\"Jumlah Fitur Tanpa Preprocessing\",jumFitur)\n",
        "print (\"Jumlah Fitur Dengan Preprocessing\",jumFitur2)\n",
        "\n",
        "fig = plt.figure()\n",
        "\n",
        "label = ['Tanpa Preprocessing', 'Dengan Preprocessing']\n",
        "val = [jumFitur,jumFitur2]\n",
        "\n",
        "plt.bar(label,val,color=['r', 'b'])\n",
        "addlabels(label,val)\n",
        "plt.suptitle('Perbandingan Jumlah Fitur')\n",
        "\n",
        "\n",
        "\n",
        "\n",
        "plt.savefig('perbandinganJumlahFitur.png')\n",
        "plt.show()"
      ],
      "execution_count": null,
      "outputs": [
        {
          "output_type": "stream",
          "text": [
            "Jumlah Fitur Tanpa Preprocessing 743979\n",
            "Jumlah Fitur Dengan Preprocessing 706924\n"
          ],
          "name": "stdout"
        },
        {
          "output_type": "display_data",
          "data": {
            "image/png": "[encoded data removed]",
            "text/plain": [
              "<Figure size 432x288 with 1 Axes>"
            ]
          },
          "metadata": {
            "tags": [],
            "needs_background": "light"
          }
        }
      ]
    },
    {
      "cell_type": "markdown",
      "metadata": {
        "id": "CgnfS2OEKta0"
      },
      "source": [
        "### Confussion Matrix"
      ]
    },
    {
      "cell_type": "code",
      "metadata": {
        "colab": {
          "base_uri": "https://localhost:8080/",
          "height": 599
        },
        "id": "ZUkSBHvXKuXU",
        "outputId": "945efae0-8865-4f0a-acfd-474f200e1fd7"
      },
      "source": [
        "#Without Preprocessing\n",
        "plot_confusion_matrix(MNB, x_test, y_test, values_format='')\n",
        "plt.savefig('Confussion Matrix Tanpa Preprocessing.png')\n",
        "plt.suptitle('Confussion Matrix Tanpa Preprocessing')\n",
        "plt.show()\n",
        "\n",
        "# With Preprocessing\n",
        "plot_confusion_matrix(MNB2, X_test, Y_test, values_format='')\n",
        "plt.savefig('Confussion Matrix Dengan Preprocessing.png')\n",
        "plt.suptitle('Confussion Matrix Dengan Preprocessing')\n",
        "plt.show()\n"
      ],
      "execution_count": null,
      "outputs": [
        {
          "output_type": "display_data",
          "data": {
            "image/png": "[encoded data removed]",
            "text/plain": [
              "<Figure size 432x288 with 2 Axes>"
            ]
          },
          "metadata": {
            "tags": [],
            "needs_background": "light"
          }
        },
        {
          "output_type": "display_data",
          "data": {
            "image/png": "[encoded data removed]",
            "text/plain": [
              "<Figure size 432x288 with 2 Axes>"
            ]
          },
          "metadata": {
            "tags": [],
            "needs_background": "light"
          }
        }
      ]
    }
  ]
}